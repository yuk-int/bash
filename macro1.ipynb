{
 "cells": [
  {
   "cell_type": "code",
   "execution_count": 14,
   "metadata": {},
   "outputs": [
    {
     "name": "stdout",
     "output_type": "stream",
     "text": [
      "my first run\n",
      "7\n"
     ]
    }
   ],
   "source": [
    "print (\"my first run\")\n",
    "\n",
    "import random\n",
    "\n",
    "dataset = random.randint(1,10)\n",
    "\n",
    "print (dataset)"
   ]
  },
  {
   "cell_type": "code",
   "execution_count": 15,
   "metadata": {},
   "outputs": [
    {
     "name": "stdout",
     "output_type": "stream",
     "text": [
      "(hex)a=  0x654321\n",
      "(hex)b=  0x4321\n",
      "(hex)c=  0x650000\n",
      "0x65\n",
      "0x4321\n",
      "0x65\n",
      "0x650000\n",
      "0x65\n",
      "0x4321\n",
      "0x65\n"
     ]
    }
   ],
   "source": [
    "a = 0x654321\n",
    "b = a & 0x0000FFFF\n",
    "c = a & 0xFFFF0000\n",
    "\n",
    "print ('(hex)a= ', hex(a))\n",
    "print ('(hex)b= ', hex(b))\n",
    "print ('(hex)c= ', hex(c))\n",
    "\n",
    "d = c >>16\n",
    "print (hex(d))\n",
    "\n",
    "#method1\n",
    "e = a % 16**4\n",
    "print (hex(e))\n",
    "\n",
    "f = a // 16**4\n",
    "print (hex(f))\n",
    "\n",
    "c = a & 0xFFFF0000\n",
    "print (hex(c))\n",
    "\n",
    "d = c >>16\n",
    "print (hex(d))\n",
    "\n",
    "#method2\n",
    "e = a % 16**4\n",
    "print (hex(e))\n",
    "\n",
    "f = a // 16**4\n",
    "print (hex(f))"
   ]
  },
  {
   "cell_type": "code",
   "execution_count": null,
   "metadata": {},
   "outputs": [],
   "source": []
  }
 ],
 "metadata": {
  "kernelspec": {
   "display_name": "venv1",
   "language": "python",
   "name": "python3"
  },
  "language_info": {
   "codemirror_mode": {
    "name": "ipython",
    "version": 3
   },
   "file_extension": ".py",
   "mimetype": "text/x-python",
   "name": "python",
   "nbconvert_exporter": "python",
   "pygments_lexer": "ipython3",
   "version": "3.11.2"
  }
 },
 "nbformat": 4,
 "nbformat_minor": 2
}
